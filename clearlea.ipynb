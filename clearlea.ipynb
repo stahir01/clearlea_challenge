{
 "cells": [
  {
   "cell_type": "code",
   "execution_count": 1,
   "metadata": {},
   "outputs": [],
   "source": [
    "import numpy as np\n",
    "import pandas as pd\n",
    "import matplotlib.pyplot as plt\n",
    "import seaborn as sns\n",
    "import langchain\n",
    "import os\n",
    "from dotenv import load_dotenv, dotenv_values \n",
    "import getpass\n",
    "from groq import Groq\n",
    "from utils import *"
   ]
  },
  {
   "cell_type": "code",
   "execution_count": 3,
   "metadata": {},
   "outputs": [],
   "source": [
    "read_document = read_documents('Documents_Generated')"
   ]
  },
  {
   "cell_type": "code",
   "execution_count": 8,
   "metadata": {},
   "outputs": [
    {
     "name": "stdout",
     "output_type": "stream",
     "text": [
      "['rental_contract1.txt', 'rental_contract3.txt', 'rental_contract2.txt']\n"
     ]
    }
   ],
   "source": [
    "document_list = os.listdir('Documents_Generated')\n",
    "document_list2 = [file for file in document_list if file.endswith('.txt')]\n",
    "print(document_list2)\n"
   ]
  },
  {
   "cell_type": "code",
   "execution_count": 11,
   "metadata": {},
   "outputs": [
    {
     "data": {
      "text/plain": [
       "True"
      ]
     },
     "execution_count": 11,
     "metadata": {},
     "output_type": "execute_result"
    }
   ],
   "source": [
    "##Load the .env file\n",
    "load_dotenv() \n",
    "#print(os.getenv(\"OpenSource_API_KEY\")"
   ]
  },
  {
   "cell_type": "code",
   "execution_count": 8,
   "metadata": {},
   "outputs": [],
   "source": [
    "# Create model and set environment variables\n",
    "client = Groq(api_key=os.environ.get(\"GROQ_API_KEY\"))\n",
    "MODEL = 'llama3-70b-8192'"
   ]
  },
  {
   "cell_type": "code",
   "execution_count": 9,
   "metadata": {},
   "outputs": [
    {
     "name": "stdout",
     "output_type": "stream",
     "text": [
      "Fast language models are crucial in today's natural language processing (NLP) landscape, and their importance can be seen in several aspects:\n",
      "\n",
      "1. **Real-time Processing**: Fast language models enable real-time processing of text data, which is essential for applications that require instantaneous responses, such as:\n",
      "\t* Chatbots and virtual assistants\n",
      "\t* Sentiment analysis and opinion mining\n",
      "\t* Text classification and filtering\n",
      "2. **Improved User Experience**: Fast language models facilitate faster response times, leading to a more seamless and interactive user experience, particularly in:\n",
      "\t* Conversational AI and dialogue systems\n",
      "\t* Interactive storytelling and chat-based interfaces\n",
      "3. **Increased Throughput**: Fast language models can process large volumes of text data rapidly, making them ideal for:\n",
      "\t* High-volume text classification and categorization\n",
      "\t* Large-scale language translation and localization\n",
      "\t* Text-to-speech synthesis and speech recognition\n",
      "4. **Scalability**: Fast language models can handle massive datasets and scale to meet the demands of:\n",
      "\t* Big data analytics and insights\n",
      "\t* Social media monitoring and analytics\n",
      "\t* Content generation and summarization\n",
      "5. **Energy Efficiency**: Fast language models can reduce computational resources and energy consumption, making them more environmentally friendly and cost-effective, especially for:\n",
      "\t* Edge AI and IoT applications\n",
      "\t* Mobile and embedded systems\n",
      "6. **Competitive Advantage**: Fast language models can provide a competitive edge in various industries, such as:\n",
      "\t* Customer service and support centers\n",
      "\t* Marketing and advertising agencies\n",
      "\t* Healthcare and medical research institutions\n",
      "7. **Research and Development**: Fast language models can accelerate research and development in NLP, enabling faster experimentation, prototyping, and innovation in areas like:\n",
      "\t* Language understanding and generation\n",
      "\t* Multimodal and multimedia processing\n",
      "\t* Explainable AI and transparency\n",
      "8. **Societal Impact**: Fast language models can have a significant impact on various aspects of society, including:\n",
      "\t* Accessibility and inclusivity\n",
      "\t* Education and language learning\n",
      "\t* Healthcare and medical diagnosis\n",
      "9. **Economic Benefits**: Fast language models can drive economic growth and efficiency in various sectors, including:\n",
      "\t* Customer service and support\n",
      "\t* Sales and marketing automation\n",
      "\t* Financial services and trading platforms\n",
      "10. **Enabling New Applications**: Fast language models can enable new applications and use cases that were previously not feasible due to computational limitations, such as:\n",
      "\t* Real-time language translation devices\n",
      "\t* Intelligent writing assistants\n",
      "\t* Conversational AI-powered toys and games\n",
      "\n",
      "In summary, fast language models are essential for various applications that require rapid text processing, real-time responses, and scalability. They can drive innovation, improve user experiences, and have a significant impact on various industries and aspects of society.\n"
     ]
    }
   ],
   "source": [
    "chat_completion = client.chat.completions.create(\n",
    "    messages=[\n",
    "        {\n",
    "            \"role\": \"user\",\n",
    "            \"content\": \"Explain the importance of fast language models\",\n",
    "        }\n",
    "    ],\n",
    "    model=MODEL,\n",
    ")\n",
    "\n",
    "# Print the response content\n",
    "print(chat_completion.choices[0].message.content)"
   ]
  }
 ],
 "metadata": {
  "kernelspec": {
   "display_name": "clearlea",
   "language": "python",
   "name": "python3"
  },
  "language_info": {
   "codemirror_mode": {
    "name": "ipython",
    "version": 3
   },
   "file_extension": ".py",
   "mimetype": "text/x-python",
   "name": "python",
   "nbconvert_exporter": "python",
   "pygments_lexer": "ipython3",
   "version": "3.10.8"
  },
  "orig_nbformat": 4
 },
 "nbformat": 4,
 "nbformat_minor": 2
}
