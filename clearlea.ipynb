{
 "cells": [
  {
   "cell_type": "code",
   "execution_count": 1,
   "metadata": {},
   "outputs": [],
   "source": [
    "import numpy as np\n",
    "import pandas as pd\n",
    "import matplotlib.pyplot as plt\n",
    "import seaborn as sns\n",
    "import langchain\n",
    "import os\n",
    "from dotenv import load_dotenv, dotenv_values \n",
    "import getpass\n",
    "from groq import Groq\n",
    "from utils import *"
   ]
  },
  {
   "cell_type": "code",
   "execution_count": 11,
   "metadata": {},
   "outputs": [],
   "source": [
    "read_document = read_documents('Documents_Generated')\n",
    "#read_document\n",
    "#for document in read_document:\n",
    "#    print(json.dumps(document, indent=2))"
   ]
  },
  {
   "cell_type": "code",
   "execution_count": 12,
   "metadata": {},
   "outputs": [],
   "source": [
    "first_document_content = read_document[1]\n",
    "#print(first_document_content)"
   ]
  },
  {
   "cell_type": "code",
   "execution_count": 13,
   "metadata": {},
   "outputs": [],
   "source": [
    "questions = load_questions('Questions/questions.json')\n",
    "#print(questions)"
   ]
  },
  {
   "cell_type": "code",
   "execution_count": 14,
   "metadata": {},
   "outputs": [
    {
     "name": "stdout",
     "output_type": "stream",
     "text": [
      "Question: Date\n",
      "Answer: The date of the Residential Lease Agreement is June 13, 2024.\n",
      "\n",
      "Question: Tenant First Name\n",
      "Answer: The tenant's first name is Jane.\n",
      "\n",
      "Question: Tenant Last Name\n",
      "Answer: The Tenant's Last Name is \"Doe\".\n",
      "\n",
      "Question: Tenant Phone Number\n",
      "Answer: The tenant's phone number is (555) 987-6543.\n",
      "\n",
      "Question: Tenant Email\n",
      "Answer: The tenant's email address is jane.doe@example.com.\n",
      "\n",
      "Question: Landlord First Name\n",
      "Answer: The answer is: John\n",
      "\n",
      "Question: Landlord Last Name\n",
      "Answer: The answer is: Smith\n",
      "\n",
      "Question: Landlord Phone Number\n",
      "Answer: The Landlord's phone number is (555) 123-4567.\n",
      "\n",
      "Question: Landlord Email\n",
      "Answer: The landlord's email address is john.smith@example.com.\n",
      "\n",
      "Question: Rental Property Street Address\n",
      "Answer: The rental property street address is 123 Main Street, Springfield, Illinois, 62701.\n",
      "\n",
      "Question: Rental Property City\n",
      "Answer: The answer is: Springfield.\n",
      "\n",
      "Question: Rental Property State/Province\n",
      "Answer: The rental property is located in the state of Illinois.\n",
      "\n",
      "Question: Rental Property Postal/Zip Code\n",
      "Answer: The Rental Property Postal/Zip Code is 62701.\n",
      "\n",
      "Question: Term Start Date\n",
      "Answer: The Term Start Date is July 1, 2024.\n",
      "\n",
      "Question: Term Start Time\n",
      "Answer: The Term Start Time is 12:00 PM.\n",
      "\n",
      "Question: Term End Date\n",
      "Answer: According to the document, the Term End Date is June 30, 2025, at 12:00 PM.\n",
      "\n",
      "Question: Term End Time\n",
      "Answer: According to the document, the Lease Term ends on June 30, 2025, at 12:00 PM.\n",
      "\n",
      "Question: Rental Amount\n",
      "Answer: The rental amount is $1,200 per month.\n",
      "\n",
      "Question: Payment Method\n",
      "Answer: According to the document, the payment method is via bank transfer to the following account:\n",
      "\n",
      "- Bank Name: First National Bank\n",
      "- Account Number: 123456789\n",
      "- Routing Number: 987654321\n",
      "\n",
      "Question: Reservation Fee\n",
      "Answer: The reservation fee is $200.\n",
      "\n",
      "Question: Security Deposit Amount\n",
      "Answer: The security deposit amount is $1,200.\n",
      "\n",
      "Question: Maximum Number of Occupants\n",
      "Answer: According to the document, the Maximum Number of Occupants is 4.\n",
      "\n",
      "Question: Pets Allowed (Yes/No)\n",
      "Answer: According to the document, the answer is: Yes\n",
      "\n",
      "Question: Smoking Allowed (Yes/No)\n",
      "Answer: According to the document, the answer is:\n",
      "\n",
      "No\n",
      "\n",
      "Question: Currency\n",
      "Answer: The currency is not explicitly mentioned in the document, so I would answer \"not available\". However, based on the context and the mention of dollar amounts (e.g., $1,200, $200, $50), it can be inferred that the currency is likely the US Dollar (USD).\n",
      "\n"
     ]
    }
   ],
   "source": [
    "model = 'llama3-70b-8192'\n",
    "#model = 'mixtral-8x7b-32768'\n",
    "api_key = 'GROQ_API_KEY'\n",
    "\n",
    "\n",
    "responses = model_result(model, api_key, first_document_content, questions)\n",
    "for response in responses:\n",
    "        print(f\"Question: {response['question']}\\nAnswer: {response['answer']}\\n\")"
   ]
  },
  {
   "cell_type": "code",
   "execution_count": 15,
   "metadata": {},
   "outputs": [],
   "source": [
    "store_model_results(model, first_document_content, responses)"
   ]
  },
  {
   "attachments": {},
   "cell_type": "markdown",
   "metadata": {},
   "source": [
    "### Test"
   ]
  },
  {
   "cell_type": "code",
   "execution_count": 5,
   "metadata": {},
   "outputs": [
    {
     "data": {
      "text/plain": [
       "True"
      ]
     },
     "execution_count": 5,
     "metadata": {},
     "output_type": "execute_result"
    }
   ],
   "source": [
    "##Load the .env file\n",
    "\n",
    "load_dotenv() \n",
    "#print(os.getenv(\"OpenSource_API_KEY\")"
   ]
  },
  {
   "cell_type": "code",
   "execution_count": 6,
   "metadata": {},
   "outputs": [],
   "source": [
    "# Create model and set environment variables\n",
    "client = Groq(api_key=os.environ.get(\"GROQ_API_KEY\"))\n",
    "MODEL = 'llama3-70b-8192'"
   ]
  },
  {
   "cell_type": "code",
   "execution_count": 7,
   "metadata": {},
   "outputs": [
    {
     "name": "stdout",
     "output_type": "stream",
     "text": [
      "Fast language models are essential in various applications, and their importance cannot be overstated. Here are some reasons why fast language models are crucial:\n",
      "\n",
      "1. **Real-time interactions**: Fast language models enable real-time interactions in applications like chatbots, virtual assistants, and language translation systems. Users expect rapid responses, and slow models can lead to frustration and abandonment.\n",
      "2. **Efficient processing**: Fast language models can process large amounts of text data quickly, making them suitable for applications with high-volume text data, such as social media monitoring, sentiment analysis, and text classification.\n",
      "3. **Scalability**: Fast language models can handle large datasets and scale to meet the demands of big data, making them ideal for applications like natural language processing (NLP) and machine learning model training.\n",
      "4. **Low-latency applications**: Fast language models are critical in applications that require low latency, such as autonomous vehicles, robots, or medical devices, where timely responses can be a matter of life and death.\n",
      "5. **Edge computing**: With the proliferation of IoT devices, fast language models can be deployed at the edge, enabling real-time processing and reducing latency, which is essential for applications like smart homes, cities, or industries.\n",
      "6. **Cost-effective**: Fast language models can reduce computational resources and energy consumption, leading to cost savings and environmentally friendly operations.\n",
      "7. **Improved user experience**: Fast language models can lead to more seamless and engaging user experiences, increasing customer satisfaction and loyalty in applications like customer service chatbots or language translation apps.\n",
      "8. **Competitive advantage**: Companies that adopt fast language models can gain a competitive advantage in their respective markets, as they can respond quickly to customer needs and adapt to changing market conditions more efficiently.\n",
      "9. **Research and development**: Fast language models can accelerate research in NLP and AI, enabling scientists to explore new ideas and applications more quickly, which can lead to breakthroughs and innovations.\n",
      "10. **Social impact**: Fast language models can have a significant social impact by enabling applications that improve healthcare, education, and accessibility, such as language translation for people with disabilities or real-time medical diagnosis.\n",
      "\n",
      "In summary, fast language models are crucial for many applications, enabling real-time interactions, efficient processing, scalability, and cost-effectiveness, while improving user experiences, and driving innovation and social impact.\n"
     ]
    }
   ],
   "source": [
    "chat_completion = client.chat.completions.create(\n",
    "    messages=[\n",
    "        {\n",
    "            \"role\": \"user\",\n",
    "            \"content\": \"Explain the importance of fast language models\",\n",
    "        }\n",
    "    ],\n",
    "    model=MODEL,\n",
    ")\n",
    "\n",
    "# Print the response content\n",
    "print(chat_completion.choices[0].message.content)"
   ]
  },
  {
   "cell_type": "code",
   "execution_count": null,
   "metadata": {},
   "outputs": [],
   "source": []
  }
 ],
 "metadata": {
  "kernelspec": {
   "display_name": "clearlea",
   "language": "python",
   "name": "python3"
  },
  "language_info": {
   "codemirror_mode": {
    "name": "ipython",
    "version": 3
   },
   "file_extension": ".py",
   "mimetype": "text/x-python",
   "name": "python",
   "nbconvert_exporter": "python",
   "pygments_lexer": "ipython3",
   "version": "3.10.8"
  },
  "orig_nbformat": 4
 },
 "nbformat": 4,
 "nbformat_minor": 2
}
