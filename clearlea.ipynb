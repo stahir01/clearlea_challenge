{
 "cells": [
  {
   "cell_type": "code",
   "execution_count": 86,
   "metadata": {},
   "outputs": [],
   "source": [
    "# import numpy as np\n",
    "# import pandas as pd\n",
    "# import matplotlib.pyplot as plt\n",
    "# import seaborn as sns\n",
    "# import langchain\n",
    "import os\n",
    "from dotenv import load_dotenv, dotenv_values \n",
    "import getpass\n",
    "from groq import Groq\n",
    "from utils import *"
   ]
  },
  {
   "cell_type": "code",
   "execution_count": 87,
   "metadata": {},
   "outputs": [],
   "source": [
    "read_document = read_documents('Documents_Generated')\n",
    "#read_document\n",
    "#for document in read_document:\n",
    "#    print(json.dumps(document, indent=2))"
   ]
  },
  {
   "cell_type": "code",
   "execution_count": 88,
   "metadata": {},
   "outputs": [],
   "source": [
    "first_document_content = read_document[1]\n",
    "# print(first_document_content)"
   ]
  },
  {
   "cell_type": "code",
   "execution_count": 89,
   "metadata": {},
   "outputs": [],
   "source": [
    "questions = load_questions('Questions/questions.json')\n",
    "#print(questions)"
   ]
  },
  {
   "cell_type": "code",
   "execution_count": 90,
   "metadata": {},
   "outputs": [
    {
     "name": "stdout",
     "output_type": "stream",
     "text": [
      "Question: Date\n",
      "Answer: The date associated with the main rental agreement is the 14th day of June, 2024. The addendum, Addendum A: Pet Agreement, is dated but the specific date is not provided in the text you have given.\n",
      "\n",
      "Question: Tenant First Name\n",
      "Answer: The tenant's first name is Emily, as per the **Lessee** details in the Real Estate Rental Contract.\n",
      "\n",
      "Question: Tenant Last Name\n",
      "Answer: The tenant last name is Brown.\n",
      "\n",
      "Question: Tenant Phone Number\n",
      "Answer: The tenant's phone number is (555) 987-6543.\n",
      "\n",
      "Question: Tenant Email\n",
      "Answer: The tenant's email address is emily.brown@example.com.\n",
      "\n",
      "Question: Landlord First Name\n",
      "Answer: The landlord's first name is Robert, as stated in the Proprietor section of the Real Estate Rental Contract.\n",
      "\n",
      "Proprietor:\n",
      "Designation: Robert Johnson  \n",
      "Residence: 123 Main Street, Suite 100, Springfield, IL, 62701  \n",
      "Contact Number: (555) 123-4567  \n",
      "Email Address: robert.johnson@example.com\n",
      "\n",
      "Question: Landlord Last Name\n",
      "Answer: The last name of the landlord (Proprietor) is Johnson.\n",
      "\n",
      "Question: Landlord Phone Number\n",
      "Answer: The landlord phone number is (555) 123-4567.\n",
      "\n",
      "Question: Landlord Email\n",
      "Answer: The landlord's email address is robert.johnson@example.com.\n",
      "\n",
      "Question: Rental Property Street Address\n",
      "Answer: The rental property street address is 789 Pine Street, Springfield, IL, 62703.\n",
      "\n",
      "Question: Rental Property City\n",
      "Answer: The rental property is located in Springfield, IL. This is stated in the **Premises** section of the document.\n",
      "\n",
      "Question: Rental Property State/Province\n",
      "Answer: The Rental Property State/Province is Illinois. This information can be found in the \"Real Estate Rental Contract\" document under the section \"Jurisdiction,\" which states that \"This Agreement is governed by the laws of the State of Illinois.\"\n",
      "\n",
      "Question: Rental Property Postal/Zip Code\n",
      "Answer: The rental property postal/zip code is 62703.\n",
      "\n",
      "Question: Term Start Date\n",
      "Answer: The term start date is the 1st of July, 2024.\n",
      "\n",
      "Question: Term Start Time\n",
      "Answer: The start time of the term is on the 1st of July, 2024.\n",
      "\n",
      "Question: Term End Date\n",
      "Answer: The term end date of the lease agreement is 30th of June, 2025.\n",
      "\n",
      "Question: Term End Time\n",
      "Answer: The end time of the lease term is the 30th of June, 2025.\n",
      "\n",
      "Question: Rental Amount\n",
      "Answer: The rental amount is $2,000 per month, and the total rent for the lease period amounts to $24,000.\n",
      "\n",
      "Question: Payment Method\n",
      "Answer: The payment method is not explicitly stated in the document. It only mentions that the rent is payable in monthly tranches of $2,000, with the initial tranche due on July 1, 2024, and subsequent tranches due on the first calendar day of each ensuing month. The method of payment, whether it is by cash, check, or bank transfer, is not specified.\n",
      "\n",
      "Question: Reservation Fee\n",
      "Answer: The document does not mention a reservation fee.\n",
      "\n",
      "Question: Security Deposit Amount\n",
      "Answer: The security deposit amount is $2,000.\n",
      "\n",
      "Question: Maximum Number of Occupants\n",
      "Answer: The maximum number of occupants is not specified in the document.\n",
      "\n",
      "Question: Pets Allowed (Yes/No)\n",
      "Answer: Yes, pets are allowed according to Addendum A of the document.\n",
      "\n",
      "Question: Smoking Allowed (Yes/No)\n",
      "Answer: No, smoking is not explicitly allowed or disallowed in the document. However, the document states that \"The Property shall be exclusively utilized for residential purposes by the Lessee and their immediate kin,\" and it is generally understood that smoking is not allowed in most residential properties. Therefore, it can be inferred that smoking is not allowed, but it is not explicitly stated.\n",
      "\n",
      "Question: Currency\n",
      "Answer: The currency used in the document is the US Dollar (USD). This can be seen in the \"Remuneration\" section, where the cumulative rent for the lease period is stated to be $24,000, payable in monthly tranches of $2,000.\n",
      "\n"
     ]
    }
   ],
   "source": [
    "# model = 'llama3-70b-8192'\n",
    "model = 'mixtral-8x7b-32768'\n",
    "api_key = 'GROQ_API_KEY'\n",
    "\n",
    "\n",
    "responses = model_result(model, api_key, first_document_content, questions)\n",
    "for response in responses:\n",
    "        print(f\"Question: {response['question']}\\nAnswer: {response['answer']}\\n\")"
   ]
  },
  {
   "cell_type": "code",
   "execution_count": 91,
   "metadata": {},
   "outputs": [],
   "source": [
    "store_model_results(model, first_document_content, responses)"
   ]
  },
  {
   "attachments": {},
   "cell_type": "markdown",
   "metadata": {},
   "source": [
    "### Test"
   ]
  },
  {
   "cell_type": "code",
   "execution_count": 92,
   "metadata": {},
   "outputs": [
    {
     "data": {
      "text/plain": [
       "True"
      ]
     },
     "execution_count": 92,
     "metadata": {},
     "output_type": "execute_result"
    }
   ],
   "source": [
    "##Load the .env file\n",
    "\n",
    "load_dotenv() \n",
    "#print(os.getenv(\"OpenSource_API_KEY\")"
   ]
  },
  {
   "cell_type": "code",
   "execution_count": 93,
   "metadata": {},
   "outputs": [],
   "source": [
    "# Create model and set environment variables\n",
    "client = Groq(api_key=os.environ.get(\"GROQ_API_KEY\"))\n",
    "MODEL = 'llama3-70b-8192'"
   ]
  },
  {
   "cell_type": "code",
   "execution_count": 94,
   "metadata": {},
   "outputs": [
    {
     "name": "stdout",
     "output_type": "stream",
     "text": [
      "Fast language models are crucial in natural language processing (NLP) and have numerous applications in modern technology. Here are some reasons why fast language models are important:\n",
      "\n",
      "1. **Real-time Processing**: Fast language models enable real-time processing of vast amounts of text data, allowing for instantaneous responses in applications like chatbots, virtual assistants, and language translation systems.\n",
      "2. **Improved User Experience**: Fast language models provide rapid responses, leading to a more seamless and engaging user experience. This is particularly important in applications like customer service, where timely responses are critical.\n",
      "3. **Scalability**: Fast language models can handle large volumes of data, making them ideal for applications that require processing massive amounts of text data, such as social media analytics or text summarization.\n",
      "4. **Low Latency**: Fast language models reduce latency, enabling near-instant responses in applications like speech recognition, sentiment analysis, and language translation.\n",
      "5. **Improved Accuracy**: Faster language models can process more data, leading to improved accuracy and better decision-making in applications like natural language understanding, text classification, and sentiment analysis.\n",
      "6. **Edge AI**: Fast language models are essential for edge AI applications, where processing occurs on devices like smartphones, smart home devices, or autonomous vehicles, rather than on remote servers.\n",
      "7. **Resource Efficiency**: Fast language models can operate on low-power devices, reducing energy consumption and enabling deployment on devices with limited computing resources.\n",
      "8. **Multitasking**: Fast language models can handle multiple tasks simultaneously, enabling applications like simultaneous machine translation, sentiment analysis, and named entity recognition.\n",
      "9. **Emergency Response Systems**: Fast language models are critical in emergency response systems, where rapid language processing is essential for timely and accurate responses.\n",
      "10. **Research and Development**: Fast language models accelerate research and development in NLP, enabling researchers to experiment and iterate more quickly, leading to faster breakthroughs and advancements in the field.\n",
      "11. **Industry Applications**: Fast language models have numerous industry-specific applications, such as:\n",
      "\t* Healthcare: rapid diagnosis and treatment planning\n",
      "\t* Finance: high-speed trade processing and risk analysis\n",
      "\t* Customer Service: instantaneous chatbot responses\n",
      "\t* Cybersecurity: rapid detection and response to threats\n",
      "12. **Accessibility**: Fast language models can improve accessibility for people with disabilities, enabling faster communication and more efficient interactions.\n",
      "\n",
      "In summary, fast language models are essential for numerous applications that require rapid and accurate natural language processing. They improve user experience, scalability, and accuracy, while reducing latency and enabling real-time processing, edge AI, and resource efficiency.\n"
     ]
    }
   ],
   "source": [
    "chat_completion = client.chat.completions.create(\n",
    "    messages=[\n",
    "        {\n",
    "            \"role\": \"user\",\n",
    "            \"content\": \"Explain the importance of fast language models\",\n",
    "        }\n",
    "    ],\n",
    "    model=MODEL,\n",
    ")\n",
    "\n",
    "# Print the response content\n",
    "print(chat_completion.choices[0].message.content)"
   ]
  },
  {
   "cell_type": "code",
   "execution_count": null,
   "metadata": {},
   "outputs": [],
   "source": []
  }
 ],
 "metadata": {
  "kernelspec": {
   "display_name": "clearlea",
   "language": "python",
   "name": "python3"
  },
  "language_info": {
   "codemirror_mode": {
    "name": "ipython",
    "version": 3
   },
   "file_extension": ".py",
   "mimetype": "text/x-python",
   "name": "python",
   "nbconvert_exporter": "python",
   "pygments_lexer": "ipython3",
   "version": "3.10.8"
  },
  "orig_nbformat": 4
 },
 "nbformat": 4,
 "nbformat_minor": 2
}
