{
 "cells": [
  {
   "cell_type": "code",
   "execution_count": null,
   "metadata": {},
   "outputs": [],
   "source": [
    "import os\n",
    "from dotenv import load_dotenv, dotenv_values \n",
    "import getpass\n",
    "from groq import Groq\n",
    "import nltk\n",
    "from sklearn.feature_extraction.text import TfidfVectorizer\n",
    "from sklearn.metrics.pairwise import cosine_similarity\n",
    "##Load the .env file\n",
    "load_dotenv() \n",
    "#print(os.getenv(\"OpenSource_API_KEY\")\n",
    "\n",
    "client = Groq(\n",
    "    api_key=os.environ.get(\"GROQ_API_KEY\"),\n",
    ")\n",
    "def extract_text_from_file(file_path):\n",
    "    try:\n",
    "        with open(file_path, 'r', encoding='utf-8') as file:\n",
    "            content = file.read()\n",
    "        return content\n",
    "    except FileNotFoundError:\n",
    "        return \"The file was not found.\"\n",
    "    except Exception as e:\n",
    "        return f\"An error occurred: {e}\"\n",
    "\n",
    "file_path = '../clearlea_challenge/Documents_Generated/rental_contract1.txt'\n",
    "text = extract_text_from_file(file_path)\n",
    "text_for_input = f\"Summarize this contract and extract the most important details in short.: \\n{text}\"\n",
    "# print(f\"Summarize this contract: {text}\")\n",
    "# print(text_for_input)"
   ]
  },
  {
   "cell_type": "code",
   "execution_count": null,
   "metadata": {},
   "outputs": [],
   "source": [
    "chat_completion = client.chat.completions.create(\n",
    "    messages=[\n",
    "        {\n",
    "            \"role\": \"user\",\n",
    "            \"content\": text_for_input,\n",
    "        }\n",
    "    ],\n",
    "    model=\"mixtral-8x7b-32768\",\n",
    ")\n",
    "summary1 = chat_completion.choices[0].message.content\n",
    "print(chat_completion.choices[0].message.content)"
   ]
  },
  {
   "cell_type": "code",
   "execution_count": null,
   "metadata": {},
   "outputs": [],
   "source": [
    "chat_completion = client.chat.completions.create(\n",
    "    messages=[\n",
    "        {\n",
    "            \"role\": \"user\",\n",
    "            \"content\": text_for_input,\n",
    "        }\n",
    "    ],\n",
    "    model=\"llama3-70b-8192\",\n",
    ")\n",
    "summary2 = chat_completion.choices[0].message.content\n",
    "print(chat_completion.choices[0].message.content)"
   ]
  },
  {
   "cell_type": "code",
   "execution_count": null,
   "metadata": {},
   "outputs": [],
   "source": [
    "# Download necessary NLTK data files\n",
    "nltk.download('punkt')\n",
    "nltk.download('stopwords')\n",
    "\n",
    "def preprocess_text(text):\n",
    "    # Tokenize, remove stop words and lowercase the text\n",
    "    stop_words = set(nltk.corpus.stopwords.words('english'))\n",
    "    tokens = nltk.word_tokenize(text)\n",
    "    tokens = [word.lower() for word in tokens if word.isalpha() and word.lower() not in stop_words]\n",
    "    return ' '.join(tokens)\n",
    "\n",
    "def compare_summaries(summary1, summary2):\n",
    "    # Preprocess the summaries\n",
    "    processed_summary1 = preprocess_text(summary1)\n",
    "    processed_summary2 = preprocess_text(summary2)\n",
    "    \n",
    "    # Create a TF-IDF Vectorizer\n",
    "    vectorizer = TfidfVectorizer()\n",
    "    tfidf_matrix = vectorizer.fit_transform([processed_summary1, processed_summary2])\n",
    "    \n",
    "    # Calculate cosine similarity\n",
    "    cosine_sim = cosine_similarity(tfidf_matrix[0:1], tfidf_matrix[1:2]).flatten()[0]\n",
    "    \n",
    "    # Tokenize the original summaries for difference analysis\n",
    "    tokens1 = set(nltk.word_tokenize(summary1.lower()))\n",
    "    tokens2 = set(nltk.word_tokenize(summary2.lower()))\n",
    "    \n",
    "    # Calculate the differences\n",
    "    unique_to_summary1 = tokens1 - tokens2\n",
    "    unique_to_summary2 = tokens2 - tokens1\n",
    "    \n",
    "    # Return a comparative analysis\n",
    "    return {\n",
    "        'cosine_similarity': cosine_sim,\n",
    "        'unique_to_summary1': list(unique_to_summary1),\n",
    "        'unique_to_summary2': list(unique_to_summary2)\n",
    "    }\n",
    "\n",
    "result = compare_summaries(summary1, summary2)\n",
    "print(result)"
   ]
  }
 ],
 "metadata": {
  "kernelspec": {
   "display_name": ".venv",
   "language": "python",
   "name": "python3"
  },
  "language_info": {
   "codemirror_mode": {
    "name": "ipython",
    "version": 3
   },
   "file_extension": ".py",
   "mimetype": "text/x-python",
   "name": "python",
   "nbconvert_exporter": "python",
   "pygments_lexer": "ipython3",
   "version": "3.12.2"
  }
 },
 "nbformat": 4,
 "nbformat_minor": 2
}
